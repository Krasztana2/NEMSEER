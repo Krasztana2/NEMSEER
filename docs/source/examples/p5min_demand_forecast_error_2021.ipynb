{
 "cells": [
  {
   "cell_type": "markdown",
   "metadata": {},
   "source": [
    "# Looking at 5-minute pre-dispatch demand forecast errors in 2021"
   ]
  },
  {
   "cell_type": "markdown",
   "metadata": {},
   "source": [
    "In this example, we will take a look at 5-minute pre-dispatch ({term}`5MPD`) demand forecast \"error\" (the difference between actual and forecasted demand) for 2021. AEMO runs {term}`5MPD` to provide system and market information for the next hour.\n",
    "\n",
    "We'll look at forecast \"error\" on a NEM-wide basis; that is, we will sum actual scheduled demand across all NEM regions and then compare that to the sum of forecast scheduled demand across all NEM regions. \n",
    "\n",
    "The code below could be modified to do this analysis on a region by region basis (we do this with (30-minute) pre-dispatch demand forecasts in [this example](https://nemseer.readthedocs.io/en/latest/examples/pd_demand_forecast_error_2021.html))."
   ]
  },
  {
   "cell_type": "markdown",
   "metadata": {},
   "source": [
    "## Key imports"
   ]
  },
  {
   "cell_type": "code",
   "execution_count": 1,
   "metadata": {},
   "outputs": [],
   "source": [
    "# standard libraries\n",
    "from datetime import datetime, timedelta\n",
    "from pathlib import Path\n",
    "\n",
    "# NEM data libraries\n",
    "# NEMOSIS for actual demand data\n",
    "# NEMSEER for forecast demand data\n",
    "import nemosis\n",
    "from nemseer import compile_data, download_raw_data, generate_runtimes\n",
    "\n",
    "# data wrangling libraries\n",
    "import numpy as np\n",
    "import pandas as pd\n",
    "\n",
    "# interactive plotting\n",
    "import plotly.express as px\n",
    "import plotly.io as pio\n",
    "import plotly.graph_objects as go\n",
    "\n",
    "# progress bar for error computation\n",
    "from tqdm.autonotebook import tqdm\n",
    "\n",
    "# supress logging from NEMSEER and NEMOSIS\n",
    "import logging\n",
    "\n",
    "logging.getLogger(\"nemosis\").setLevel(logging.WARNING)\n",
    "logging.getLogger(\"nemseer\").setLevel(logging.ERROR)"
   ]
  },
  {
   "cell_type": "markdown",
   "metadata": {},
   "source": [
    "## Plot styling"
   ]
  },
  {
   "cell_type": "code",
   "execution_count": 2,
   "metadata": {
    "tags": [
     "hide-cell"
    ]
   },
   "outputs": [],
   "source": [
    "nemseer_template = dict(\n",
    "    layout=go.Layout(\n",
    "        font_family=\"Source Sans 3\",\n",
    "        title_font_size=24,\n",
    "        title_x=0.05,\n",
    "        plot_bgcolor=\"#f0f0f0\",\n",
    "        colorway=px.colors.qualitative.Bold,\n",
    "    )\n",
    ")"
   ]
  },
  {
   "cell_type": "markdown",
   "metadata": {},
   "source": [
    "## Defining our analysis start and end dates"
   ]
  },
  {
   "cell_type": "code",
   "execution_count": 3,
   "metadata": {},
   "outputs": [],
   "source": [
    "analysis_start = \"2021/01/01 00:05:00\"\n",
    "analysis_end = \"2022/01/01 00:00:00\""
   ]
  },
  {
   "cell_type": "markdown",
   "metadata": {},
   "source": [
    "## Obtaining actual demand data from `NEMOSIS`\n",
    "\n",
    "We will download `DISPATCHREGIONSUM` to access the `TOTALDEMAND` field (actual scheduled demand).\n",
    "\n",
    "We'll first download the data we need and cache it so that it's ready for computation."
   ]
  },
  {
   "cell_type": "code",
   "execution_count": 4,
   "metadata": {},
   "outputs": [],
   "source": [
    "nemosis_cache = Path(\"nemosis_cache/\")\n",
    "if not nemosis_cache.exists():\n",
    "    nemosis_cache.mkdir()"
   ]
  },
  {
   "cell_type": "code",
   "execution_count": 5,
   "metadata": {
    "scrolled": true,
    "tags": [
     "remove-output"
    ]
   },
   "outputs": [],
   "source": [
    "nemosis.cache_compiler(\n",
    "    analysis_start, analysis_end, \"DISPATCHREGIONSUM\", nemosis_cache, fformat=\"parquet\"\n",
    ")"
   ]
  },
  {
   "cell_type": "markdown",
   "metadata": {},
   "source": [
    "## Obtaining forecast demand data from `NEMSEER`\n",
    "\n",
    "We will download `REGIONSOLUTION` to access the `TOTALDEMAND` field in `P5MIN` forecasts.\n",
    "\n",
    "We'll first download the data we need and cache it so that it's ready for computation."
   ]
  },
  {
   "cell_type": "code",
   "execution_count": 6,
   "metadata": {
    "tags": [
     "remove-output"
    ]
   },
   "outputs": [],
   "source": [
    "download_raw_data(\n",
    "    \"P5MIN\",\n",
    "    \"REGIONSOLUTION\",\n",
    "    \"nemseer_cache/\",\n",
    "    forecasted_start=analysis_start,\n",
    "    forecasted_end=analysis_end,\n",
    ")"
   ]
  },
  {
   "cell_type": "markdown",
   "metadata": {},
   "source": [
    "## Calculating forecast error\n",
    "\n",
    "Below we calculate demand forecast error for `P5MIN` forecasts using forecast demand data and actual demand data. \n",
    "\n",
    "```{attention}\n",
    "\n",
    "The {term}`actual run time` of 5MPD is approximately 5 minutes before the nominal {term}`run time`. We will adjust for this in this when calculating forecast ahead times. See the note in {ref}`this section <quick_start:core concepts and information for users>`.\n",
    "```\n",
    "\n",
    "As data for the entire period is loaded into memory, adapt the length of the period you select to your machine specifications (e.g. a year's worth of forecast data consumed ~15GB on the test machine)."
   ]
  },
  {
   "cell_type": "markdown",
   "metadata": {},
   "source": [
    "### Forecast error calculation functions\n",
    "\n",
    "The code below uses functionalities offered by `NEMOSIS`, `NEMSEER` and `pandas` to calculate demand forecast error."
   ]
  },
  {
   "cell_type": "code",
   "execution_count": 7,
   "metadata": {},
   "outputs": [],
   "source": [
    "def calculate_p5min_demand_forecast_error_vectorised(\n",
    "    analysis_start: str, analysis_end: str\n",
    ") -> pd.DataFrame:\n",
    "    \"\"\"\n",
    "    Calculates P5MIN demand forecast error (Actual - Forecast) for all forecasts\n",
    "    that are run for a given forecasted_time in a vectorised fashion.\n",
    "\n",
    "    Args:\n",
    "        forecasted_time: Datetime string in the form YYYY/mm/dd HH:MM:SS\n",
    "    Returns:\n",
    "        pandas DataFrame with forecast error in `TOTALDEMAND` columns, the ahead time\n",
    "        of the forecast run in `ahead_time`, and the forecasted time in\n",
    "        `forecasted_time`.\n",
    "    \"\"\"\n",
    "\n",
    "    def get_forecast_data(analysis_start: str, analysis_end: str) -> pd.DataFrame:\n",
    "        \"\"\"\n",
    "        Use NEMSEER to get 5MPD forecast data. Also omits any intervention periods.\n",
    "        \"\"\"\n",
    "        # use NEMSEER functions to compile pre-cached data\n",
    "        forecasts_run_start, forecasts_run_end = generate_runtimes(\n",
    "            analysis_start, analysis_end, \"P5MIN\"\n",
    "        )\n",
    "        forecast_df = compile_data(\n",
    "            forecasts_run_start,\n",
    "            forecasts_run_end,\n",
    "            analysis_start,\n",
    "            analysis_end,\n",
    "            \"P5MIN\",\n",
    "            \"REGIONSOLUTION\",\n",
    "            \"nemseer_cache/\",\n",
    "        )[\"REGIONSOLUTION\"]\n",
    "        # remove intervention periods\n",
    "        forecast_df = forecast_df.query(\"INTERVENTION == 0\")\n",
    "        return forecast_df\n",
    "\n",
    "    def get_actual_data(analysis_start: str, analysis_end: str) -> pd.DataFrame:\n",
    "        \"\"\"\n",
    "        Use NEMOSIS to get actual data. Also omits any intervention periods\n",
    "        \"\"\"\n",
    "        # NEMOSIS start time must precede end of interval of interest by 5 minutes\n",
    "        nemosis_start = (\n",
    "            datetime.strptime(analysis_start, \"%Y/%m/%d %H:%M:%S\")\n",
    "            - timedelta(minutes=5)\n",
    "        ).strftime(\"%Y/%m/%d %H:%M:%S\")\n",
    "        # use NEMOSIS to compile pre-cached data and filter out interventions\n",
    "        actual_df = nemosis.dynamic_data_compiler(\n",
    "            nemosis_start,\n",
    "            analysis_end,\n",
    "            \"DISPATCHREGIONSUM\",\n",
    "            nemosis_cache,\n",
    "            filter_cols=[\"INTERVENTION\"],\n",
    "            filter_values=([0],),\n",
    "            fformat=\"parquet\",\n",
    "        )\n",
    "        return actual_df\n",
    "\n",
    "    def calculate_p5min_forecast_demand_error(\n",
    "        actual_demand: pd.DataFrame, forecast_demand: pd.DataFrame\n",
    "    ) -> pd.DataFrame:\n",
    "        \"\"\"\n",
    "        Calculate P5MIN forecast demand error given actual and forecast demand\n",
    "\n",
    "        Ahead time calculation reflects the fact that P5MIN actual run time is\n",
    "        5 minutes before the nominal run time.\n",
    "        \"\"\"\n",
    "        # left merge ensures all forecasted values have the corresponding actual value merged in\n",
    "        merged = pd.merge(\n",
    "            forecast_demand, actual_demand, on=\"forecasted_time\", how=\"left\"\n",
    "        )\n",
    "        if len(merged) > len(forecast_demand):\n",
    "            raise ValueError(\n",
    "                \"Merge should return DataFrame with dimensions of forecast data\"\n",
    "            )\n",
    "        # subtract 5 minutes from run time to get actual run time\n",
    "        merged[\"ahead_time\"] = merged[\"forecasted_time\"] - (\n",
    "            merged[\"RUN_DATETIME\"] - timedelta(minutes=5)\n",
    "        )\n",
    "        forecast_error = (\n",
    "            merged[\"TOTALDEMAND\"] - merged[\"FORECAST_TOTALDEMAND\"]\n",
    "        ).rename(\"TOTALDEMAND\")\n",
    "        # create the forecast error DataFrame\n",
    "        forecast_error = pd.concat(\n",
    "            [forecast_error, merged[\"ahead_time\"]], axis=1\n",
    "        ).set_index(merged[\"forecasted_time\"])\n",
    "        return forecast_error\n",
    "\n",
    "    # get forecast data\n",
    "    forecast_df = get_forecast_data(analysis_start, analysis_end)\n",
    "    # rename columns in preparation for merge\n",
    "    forecast_df = forecast_df.rename(\n",
    "        columns={\n",
    "            \"TOTALDEMAND\": \"FORECAST_TOTALDEMAND\",\n",
    "            \"INTERVAL_DATETIME\": \"forecasted_time\",\n",
    "        }\n",
    "    )\n",
    "    # group by forecasted and run times, then sum demand across regions to get NEM-wide demand\n",
    "    forecast_demand = forecast_df.groupby([\"forecasted_time\", \"RUN_DATETIME\"])[\n",
    "        \"FORECAST_TOTALDEMAND\"\n",
    "    ].sum()\n",
    "    forecast_demand = forecast_demand.reset_index()\n",
    "\n",
    "    # get actual data\n",
    "    actual_df = get_actual_data(analysis_start, analysis_end)\n",
    "    # rename columns in preparation for merge\n",
    "    actual_df = actual_df.rename(\n",
    "        columns={\n",
    "            \"SETTLEMENTDATE\": \"forecasted_time\",\n",
    "            \"TOTALDEMAND\": \"TOTALDEMAND\",\n",
    "        }\n",
    "    )\n",
    "    # group by forecasted time and then sum demand across regions to get NEM-wide demand\n",
    "    actual_demand = (\n",
    "        actual_df.groupby(\"forecasted_time\")[\"TOTALDEMAND\"].sum().reset_index()\n",
    "    )\n",
    "\n",
    "    # calculate forecast error\n",
    "    forecast_error = calculate_p5min_forecast_demand_error(\n",
    "        actual_demand, forecast_demand\n",
    "    )\n",
    "    return forecast_error"
   ]
  },
  {
   "cell_type": "code",
   "execution_count": 8,
   "metadata": {
    "tags": [
     "remove-output"
    ]
   },
   "outputs": [
    {
     "name": "stderr",
     "output_type": "stream",
     "text": [
      "/home/abi/version_control/NEMSEER/.venv/lib/python3.11/site-packages/nemosis/data_fetch_methods.py:781: UserWarning: Could not infer format, so each element will be parsed individually, falling back to `dateutil`. To ensure parsing is consistent and as-expected, please specify a format.\n",
      "  col_new = _pd.to_datetime(series)\n"
     ]
    }
   ],
   "source": [
    "forecast_error = calculate_p5min_demand_forecast_error_vectorised(\n",
    "    analysis_start, analysis_end\n",
    ")"
   ]
  },
  {
   "cell_type": "markdown",
   "metadata": {},
   "source": [
    "## Plotting forecast error percentiles for each ahead time\n",
    "\n",
    "How does forecast error change based on how many minutes they are ahead of the time they are forecasting for?\n",
    "\n",
    "### Forecast error percentiles\n",
    "\n",
    "We can compute forecast error percentiles across `ahead_times` (between 0 and 55 minutes for 5-minute pre-dispatch).\n",
    "\n",
    "To do this, we will group the error DataFrame by `ahead_time`, compute the percentile and then add a column that indicates the computed percentile. We'll repeat this process across all percentiles of interest and then concatenate the results to form a single DataFrame for plotting."
   ]
  },
  {
   "cell_type": "code",
   "execution_count": 9,
   "metadata": {},
   "outputs": [],
   "source": [
    "percentile_data = []\n",
    "for quantile in (0.01, 0.05, 0.1, 0.25, 0.5, 0.75, 0.9, 0.95, 0.99):\n",
    "    quantile_result = forecast_error.groupby(\n",
    "        forecast_error[\"ahead_time\"].dt.seconds / 60\n",
    "    )[\"TOTALDEMAND\"].quantile(quantile)\n",
    "    percentile_result = pd.concat(\n",
    "        [\n",
    "            quantile_result,\n",
    "            pd.Series(\n",
    "                np.repeat(quantile * 100, len(quantile_result)),\n",
    "                index=quantile_result.index,\n",
    "                name=\"Percentile\",\n",
    "            ).astype(int),\n",
    "        ],\n",
    "        axis=1,\n",
    "    )\n",
    "    percentile_data.append(percentile_result)\n",
    "percentile_df = pd.concat(percentile_data, axis=0).reset_index()"
   ]
  },
  {
   "cell_type": "markdown",
   "metadata": {},
   "source": [
    "We can plot these quantiles for each ahead time. \n",
    "\n",
    "It's interesting to note that there is only a slight positive bias in the 50th percentile forecast as the forecast ahead time approaches one hour."
   ]
  },
  {
   "cell_type": "code",
   "execution_count": 10,
   "metadata": {
    "scrolled": true
   },
   "outputs": [],
   "source": [
    "ahead_percentile = px.line(\n",
    "    percentile_df,\n",
    "    x=\"ahead_time\",\n",
    "    y=\"TOTALDEMAND\",\n",
    "    color=\"Percentile\",\n",
    "    title=\"Hour-ahead (5MPD) NEM-wide Demand Forecast Error, 2021<br><sup>Error = Actual - Forecast,\"\n",
    "    + \"</sup>\",\n",
    "    labels={\n",
    "        \"TOTALDEMAND\": \"Demand Forecast Error (MW)\",\n",
    "        \"ahead_time\": \"Forecast Ahead Time (minutes)\",\n",
    "    },\n",
    "    template=nemseer_template,\n",
    "    color_discrete_map={\n",
    "        1: \"#E24A33\",\n",
    "        5: \"#348ABD\",\n",
    "        10: \"#988ED5\",\n",
    "        25: \"#777777\",\n",
    "        50: \"#FBC15E\",\n",
    "        75: \"#777777\",\n",
    "        90: \"#988ED5\",\n",
    "        95: \"#348ABD\",\n",
    "        99: \"#E24A33\",\n",
    "    },\n",
    ")\n",
    "ahead_percentile[\"layout\"][\"xaxis\"][\"autorange\"] = \"reversed\""
   ]
  },
  {
   "cell_type": "code",
   "execution_count": 11,
   "metadata": {
    "tags": [
     "remove-cell"
    ]
   },
   "outputs": [],
   "source": [
    "pio.write_html(\n",
    "    ahead_percentile, \"../_static/p5min_error_2021_ahead_time_percentile.html\"\n",
    ")"
   ]
  },
  {
   "cell_type": "markdown",
   "metadata": {},
   "source": [
    "```{raw} html\n",
    "---\n",
    "file: ../_static/p5min_error_2021_ahead_time_percentile.html\n",
    "---\n",
    "```"
   ]
  },
  {
   "cell_type": "markdown",
   "metadata": {},
   "source": [
    "## Plotting the distributions of forecast errors by ahead time\n",
    "\n",
    "We can look at the full distributions of forecast errors across ahead times. \n",
    "\n",
    "But first, we'll remove \"forecasts\" at `ahead_time` = 5, as these correspond to actual dispatch conditions.\n",
    "\n",
    "We'll also convert the Timedeltas into an integer, which will be helpful for plotting."
   ]
  },
  {
   "cell_type": "code",
   "execution_count": 12,
   "metadata": {
    "tags": [
     "remove-output"
    ]
   },
   "outputs": [],
   "source": [
    "error_excluding_real_time = forecast_error[\n",
    "    forecast_error[\"ahead_time\"].dt.seconds > 300\n",
    "]\n",
    "error_excluding_real_time.loc[:, \"ahead_time\"] = (\n",
    "    error_excluding_real_time.loc[:, \"ahead_time\"].dt.seconds / 60\n",
    ").astype(int)"
   ]
  },
  {
   "cell_type": "code",
   "execution_count": 13,
   "metadata": {
    "scrolled": true
   },
   "outputs": [],
   "source": [
    "ahead_hist = px.histogram(\n",
    "    error_excluding_real_time,\n",
    "    x=\"TOTALDEMAND\",\n",
    "    color=\"ahead_time\",\n",
    "    template=nemseer_template,\n",
    ")\n",
    "ahead_hist.update_layout(\n",
    "    legend_title_text=\"Ahead Time (mins)\",\n",
    ");"
   ]
  },
  {
   "cell_type": "code",
   "execution_count": 14,
   "metadata": {
    "tags": [
     "remove-cell"
    ]
   },
   "outputs": [],
   "source": [
    "pio.write_html(ahead_hist, \"../_static/p5min_error_2021_ahead_time_hists.html\")"
   ]
  },
  {
   "cell_type": "markdown",
   "metadata": {},
   "source": [
    "```{raw} html\n",
    "---\n",
    "file: ../_static/p5min_error_2021_ahead_time_hists.html\n",
    "---\n",
    "```"
   ]
  },
  {
   "cell_type": "markdown",
   "metadata": {},
   "source": [
    "## Plotting forecast error quantiles against time of day\n",
    "\n",
    "How does forecast error change across the day?\n",
    "\n",
    "Below, we repeat percentile calculations, but this time we group the data by the time of day.\n",
    "\n",
    "From the chart below, we can see that, across the NEM, intra-hour demand forecasting errors tend to be larger during the morning and evening ramps."
   ]
  },
  {
   "cell_type": "code",
   "execution_count": 15,
   "metadata": {},
   "outputs": [],
   "source": [
    "TOD_percentile_data = []\n",
    "for quantile in (0.01, 0.05, 0.1, 0.25, 0.5, 0.75, 0.9, 0.95, 0.99):\n",
    "    quantile_result = error_excluding_real_time.groupby(\n",
    "        error_excluding_real_time.index.time\n",
    "    )[\"TOTALDEMAND\"].quantile(quantile)\n",
    "    percentile_result = pd.concat(\n",
    "        [\n",
    "            quantile_result,\n",
    "            pd.Series(\n",
    "                np.repeat(quantile * 100, len(quantile_result)),\n",
    "                index=quantile_result.index,\n",
    "                name=\"Percentile\",\n",
    "            ).astype(int),\n",
    "        ],\n",
    "        axis=1,\n",
    "    )\n",
    "    TOD_percentile_data.append(percentile_result)\n",
    "TOD_percentile = pd.concat(TOD_percentile_data, axis=0).reset_index()"
   ]
  },
  {
   "cell_type": "code",
   "execution_count": null,
   "metadata": {},
   "outputs": [],
   "source": [
    "tod_percentile = px.line(\n",
    "    TOD_percentile,\n",
    "    x=\"index\",\n",
    "    y=\"TOTALDEMAND\",\n",
    "    color=\"Percentile\",\n",
    "    labels={\n",
    "        \"TOTALDEMAND\": \"Demand Forecast Error (MW)\",\n",
    "        \"ahead_time\": \"Forecast Ahead Time (minutes)\",\n",
    "        \"index\": \"Time of Day\",\n",
    "    },\n",
    "    title=\"Hour-ahead (5MPD) NEM-wide Demand Forecast Error, 2021<br><sup>Error = Actual - Forecast,\"\n",
    "    + \" excludes forecast run at real time</sup>\",\n",
    "    template=nemseer_template,\n",
    "    color_discrete_map={\n",
    "        1: \"#E24A33\",\n",
    "        5: \"#348ABD\",\n",
    "        10: \"#988ED5\",\n",
    "        25: \"#777777\",\n",
    "        50: \"#FBC15E\",\n",
    "        75: \"#777777\",\n",
    "        90: \"#988ED5\",\n",
    "        95: \"#348ABD\",\n",
    "        99: \"#E24A33\",\n",
    "    },\n",
    ")"
   ]
  },
  {
   "cell_type": "code",
   "execution_count": null,
   "metadata": {
    "tags": [
     "remove-cell"
    ]
   },
   "outputs": [],
   "source": [
    "pio.write_html(tod_percentile, \"../_static/p5min_error_2021_tod_percentile.html\")\n",
    "pio.write_image(tod_percentile, \"../_static/p5min_error_2021_tod_percentile.png\")"
   ]
  },
  {
   "cell_type": "markdown",
   "metadata": {},
   "source": [
    "```{raw} html\n",
    "---\n",
    "file: ../_static/p5min_error_2021_tod_percentile.html\n",
    "---\n",
    "```"
   ]
  }
 ],
 "metadata": {
  "kernelspec": {
   "display_name": ".venv",
   "language": "python",
   "name": "python3"
  },
  "language_info": {
   "codemirror_mode": {
    "name": "ipython",
    "version": 3
   },
   "file_extension": ".py",
   "mimetype": "text/x-python",
   "name": "python",
   "nbconvert_exporter": "python",
   "pygments_lexer": "ipython3",
   "version": "3.11.4"
  },
  "mystnb": {
   "execution_mode": "off"
  }
 },
 "nbformat": 4,
 "nbformat_minor": 4
}
