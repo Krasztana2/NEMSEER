{
 "cells": [
  {
   "cell_type": "markdown",
   "metadata": {},
   "source": [
    "# Looking at pre-dispatch demand forecast errors in 2021"
   ]
  },
  {
   "cell_type": "markdown",
   "metadata": {},
   "source": [
    "In this example, we will take a look at (30-minute) pre-dispatch ({term}`PREDISPATCH`) demand forecast \"error\" (the difference between \"actual\" - the demand used in dispatch - and forecasted demand) for 2021. Unlike 5PMD, pre-dispatch extends out to 39 hours ahead, so it's a good dataset to use to look at day-ahead forecast errors.\n"
   ]
  },
  {
   "cell_type": "markdown",
   "metadata": {},
   "source": [
    "## Key imports"
   ]
  },
  {
   "cell_type": "code",
   "execution_count": 1,
   "metadata": {},
   "outputs": [],
   "source": [
    "# standard libraries\n",
    "import logging\n",
    "import multiprocessing as mp\n",
    "from datetime import datetime, timedelta\n",
    "from pathlib import Path\n",
    "\n",
    "# NEM data libraries\n",
    "# NEMOSIS for actual demand data\n",
    "# NEMSEER for forecast demand data\n",
    "import nemosis\n",
    "from nemseer import compile_data, download_raw_data, generate_runtimes\n",
    "\n",
    "# data wrangling libraries\n",
    "import numpy as np\n",
    "import pandas as pd\n",
    "\n",
    "# interactive plotting\n",
    "import plotly.express as px\n",
    "import plotly.io as pio\n",
    "import plotly.graph_objects as go\n",
    "\n",
    "# progress bar for error computation\n",
    "from tqdm.autonotebook import tqdm\n",
    "\n",
    "# silence NEMSEER and NEMOSIS logging\n",
    "logging.getLogger(\"nemseer\").setLevel(logging.ERROR)\n",
    "logging.getLogger(\"nemosis\").setLevel(logging.WARNING)"
   ]
  },
  {
   "cell_type": "markdown",
   "metadata": {},
   "source": [
    "## Plot styling"
   ]
  },
  {
   "cell_type": "code",
   "execution_count": 2,
   "metadata": {
    "tags": [
     "hide-cell"
    ]
   },
   "outputs": [],
   "source": [
    "nemseer_template = dict(\n",
    "    layout=go.Layout(\n",
    "        font_family=\"Source Sans 3\",\n",
    "        title_font_size=24,\n",
    "        title_x=0.05,\n",
    "        plot_bgcolor=\"#f0f0f0\",\n",
    "        colorway=px.colors.qualitative.Bold,\n",
    "    )\n",
    ")"
   ]
  },
  {
   "cell_type": "markdown",
   "metadata": {},
   "source": [
    "## Defining our analysis start and end dates"
   ]
  },
  {
   "cell_type": "code",
   "execution_count": 3,
   "metadata": {},
   "outputs": [],
   "source": [
    "analysis_start = \"2021/01/01 00:00:00\"\n",
    "analysis_end = \"2022/01/01 00:00:00\""
   ]
  },
  {
   "cell_type": "markdown",
   "metadata": {},
   "source": [
    "## Obtaining actual demand data from `NEMOSIS`\n",
    "\n",
    "We will download `DISPATCHREGIONSUM` to access the `TOTALDEMAND` field.\n",
    "\n",
    "We'll first download the data we need and cache it so that it's ready for computation."
   ]
  },
  {
   "cell_type": "code",
   "execution_count": 4,
   "metadata": {},
   "outputs": [],
   "source": [
    "nemosis_cache = Path(\"nemosis_cache/\")\n",
    "if not nemosis_cache.exists():\n",
    "    nemosis_cache.mkdir()"
   ]
  },
  {
   "cell_type": "code",
   "execution_count": 5,
   "metadata": {},
   "outputs": [],
   "source": [
    "nemosis.cache_compiler(\n",
    "    analysis_start, analysis_end, \"DISPATCHREGIONSUM\", nemosis_cache, fformat=\"parquet\"\n",
    ")"
   ]
  },
  {
   "cell_type": "markdown",
   "metadata": {},
   "source": [
    "## Obtaining forecast demand data from `NEMSEER`\n",
    "\n",
    "We will download `REGIONSUM` to access the `TOTALDEMAND` field in `PREDISPATCH` forecasts.\n",
    "\n",
    "We'll first download the data we need and cache it so that it's ready for computation."
   ]
  },
  {
   "cell_type": "code",
   "execution_count": 6,
   "metadata": {
    "tags": [
     "remove-output"
    ]
   },
   "outputs": [],
   "source": [
    "download_raw_data(\n",
    "    \"PREDISPATCH\",\n",
    "    \"REGIONSUM\",\n",
    "    \"nemseer_cache/\",\n",
    "    forecasted_start=analysis_start,\n",
    "    forecasted_end=analysis_end,\n",
    ")"
   ]
  },
  {
   "cell_type": "markdown",
   "metadata": {},
   "source": [
    "## Calculating regional forecast errors\n",
    "\n",
    "Below we calculate demand forecast error for `PREDISPATCH` forecasts using forecast demand data and actual demand data. \n",
    "\n",
    "```{attention}\n",
    "\n",
    "The {term}`actual run time` of PD is approximately 30 minutes before the nominal {term}`run time`. We will adjust for this in this when calculating forecast ahead times. See the note in {ref}`this section <quick_start:core concepts and information for users>`.\n",
    "```\n",
    "\n",
    "We provide two methods below:\n",
    "\n",
    "1. A **simpler** implementation that uses handy functionalities from both `xarray` and `pandas`. This implementation is a quick and simple way to compute demand forecast error for a couple of forecasted intervals. Though we provide a way to compute error over a longer period (e.g. a year), you should use the next method to compute error unless RAM/memory is a limiting factor (though it should be noted that whilst using `multiprocessing` with this method will speed things up, it will consume more memory).\n",
    "\n",
    "2. A **vectorised**, pure-`pandas` implementation. This implementation requires more lines of `pandas` code, but is much faster and preferable to the first implementation if you are computing error across a longer period (e.g. a year). However, as data for the entire period is loaded into memory, adapt the length of the period you select to your machine specifications (e.g. a year's worth of forecast data consumed ~10GB on the test machine)."
   ]
  },
  {
   "cell_type": "markdown",
   "metadata": {},
   "source": [
    "### `xarray` + `pandas` implementation (simpler code)\n",
    "\n",
    "The code below uses functionalities offered by `NEMOSIS`, `NEMSEER` and `xarray` to simplify coding effort. "
   ]
  },
  {
   "cell_type": "code",
   "execution_count": 7,
   "metadata": {},
   "outputs": [],
   "source": [
    "def calculate_predispatch_demand_forecast_error_simpler(forecasted_time):\n",
    "    \"\"\"\n",
    "    Calculates forecast error (Actual - Forecast) for all PD forecasts for a given forecasted_time.\n",
    "\n",
    "    Args:\n",
    "        forecasted_time: Datetime string in the form YYYY/mm/dd HH:MM:SS\n",
    "    Returns:\n",
    "        pandas DataFrame with forecast error in `TOTALDEMAND` columns, the ahead time\n",
    "        of the forecast run in `ahead_time`, and the forecasted time in\n",
    "        `forecasted_time`.\n",
    "    \"\"\"\n",
    "    # necessary for datetime indexing with pandas and xarray\n",
    "    time = str(forecasted_time).replace(\"-\", \"/\")\n",
    "    # get forecast data for forecasted_time\n",
    "    run_start, run_end = generate_runtimes(time, time, \"PREDISPATCH\")\n",
    "    nemseer_data = compile_data(\n",
    "        run_start,\n",
    "        run_end,\n",
    "        time,\n",
    "        time,\n",
    "        \"PREDISPATCH\",\n",
    "        \"REGIONSUM\",\n",
    "        \"nemseer_cache/\",\n",
    "        data_format=\"xr\",\n",
    "    )\n",
    "    demand_forecasts = nemseer_data[\"REGIONSUM\"][\"TOTALDEMAND\"]\n",
    "    # get actual demand data for forecasted_time\n",
    "    # nemosis start time must precede end of interval of interest by 5 minutes\n",
    "    nemosis_start = (\n",
    "        datetime.strptime(time, \"%Y/%m/%d %H:%M:%S\") - timedelta(minutes=5)\n",
    "    ).strftime(\"%Y/%m/%d %H:%M:%S\")\n",
    "    # compile data using nemosis, using cached parquet and filtering out interventions\n",
    "    nemosis_data = (\n",
    "        nemosis.dynamic_data_compiler(\n",
    "            nemosis_start,\n",
    "            time,\n",
    "            \"DISPATCHREGIONSUM\",\n",
    "            nemosis_cache,\n",
    "            filter_cols=[\"INTERVENTION\"],\n",
    "            filter_values=([0],),\n",
    "            fformat=\"parquet\",\n",
    "        )\n",
    "        .set_index(\"SETTLEMENTDATE\")\n",
    "        .sort_index()\n",
    "    )\n",
    "    regions = (\"QLD1\", \"NSW1\", \"VIC1\", \"TAS1\", \"SA1\")\n",
    "    errors = []\n",
    "    for region in regions:\n",
    "        # actual demand\n",
    "        actual_demand = nemosis_data.query(\"REGIONID==@region\")[\"TOTALDEMAND\"][time]\n",
    "        # forecast demand\n",
    "        query_forecasts = demand_forecasts.sel(forecasted_time=time, REGIONID=region)\n",
    "        # calculate error and return as a pandas DataFrame\n",
    "        error = (actual_demand - query_forecasts).to_dataframe()\n",
    "        # calculate number of minutes ahead, but adjust for nominal vs actual run time of PD\n",
    "        error[\"ahead_time\"] = error[\"forecasted_time\"] - (\n",
    "            error.index - timedelta(minutes=30)\n",
    "        )\n",
    "        error = error.set_index(\"forecasted_time\")\n",
    "        errors.append(error)\n",
    "    return pd.concat(errors, axis=0)"
   ]
  },
  {
   "cell_type": "markdown",
   "metadata": {},
   "source": [
    "#### Computing error across 2021\n",
    "\n",
    "```{caution}\n",
    "While this code demonstrates how you could use the `pandas` + `xarray` implementation to compute error across a year, we only provide this as an example. We recommend you use the vectorised implementation if your system memory permits.\n",
    "```\n",
    "\n",
    "Because we haven't optimised our code, it will take a while to calculate forecast error across a year.\n",
    "\n",
    "To speed up computation, we will use Python's [`multiprocessing`](https://docs.python.org/3/library/multiprocessing.html) module. In this example, we use 10 simultaneous processes.\n",
    "\n",
    "`tqdm` provides us with a progress bar that shows us how many iterations are being completed in a second, as well as the progress over all intervals in the year or interest.\n",
    "\n",
    "Results DataFrames are added to a list as processes finish computation. Once they've finished, we can then concatenate these DataFrames to get a forecast error DataFrame"
   ]
  },
  {
   "cell_type": "code",
   "execution_count": null,
   "metadata": {},
   "outputs": [],
   "source": [
    "times = pd.date_range(analysis_start, analysis_end, freq=\"30T\")\n",
    "with mp.Pool(10) as p:\n",
    "    results = list(\n",
    "        tqdm(\n",
    "            p.imap(calculate_predispatch_demand_forecast_error, times), total=len(times)\n",
    "        )\n",
    "    )\n",
    "forecast_error = pd.concat(results, axis=0)"
   ]
  },
  {
   "cell_type": "markdown",
   "metadata": {},
   "source": [
    "### pure-`pandas` implementation (vectorised code)\n",
    "\n",
    "The code below uses functionalities offered by `NEMOSIS`, `NEMSEER` and `pandas` to quickly calculate demand forecast error across a longer period."
   ]
  },
  {
   "cell_type": "code",
   "execution_count": 8,
   "metadata": {},
   "outputs": [],
   "source": [
    "def calculate_predispatch_demand_forecast_error_vectorised(\n",
    "    analysis_start: str, analysis_end: str\n",
    ") -> pd.DataFrame:\n",
    "    \"\"\"\n",
    "    Calculates PD demand forecast error (Actual - Forecast) for all forecasts\n",
    "    that are run for a given forecasted_time in a vectorised fashion.\n",
    "\n",
    "    Args:\n",
    "        forecasted_time: Datetime string in the form YYYY/mm/dd HH:MM:SS\n",
    "    Returns:\n",
    "        pandas DataFrame with forecast error in `TOTALDEMAND` columns, the ahead time\n",
    "        of the forecast run in `ahead_time`, and the forecasted time in\n",
    "        `forecasted_time`.\n",
    "    \"\"\"\n",
    "\n",
    "    def get_forecast_data(analysis_start: str, analysis_end: str) -> pd.DataFrame:\n",
    "        \"\"\"\n",
    "        Use NEMSEER to get PD forecast data. Also omits any intervention periods.\n",
    "        \"\"\"\n",
    "        # use NEMSEER functions to compile pre-cached data\n",
    "        forecasts_run_start, forecasts_run_end = generate_runtimes(\n",
    "            analysis_start, analysis_end, \"PREDISPATCH\"\n",
    "        )\n",
    "        forecast_df = compile_data(\n",
    "            forecasts_run_start,\n",
    "            forecasts_run_end,\n",
    "            analysis_start,\n",
    "            analysis_end,\n",
    "            \"PREDISPATCH\",\n",
    "            \"REGIONSUM\",\n",
    "            \"nemseer_cache/\",\n",
    "        )[\"REGIONSUM\"]\n",
    "        # remove intervention periods\n",
    "        forecast_df = forecast_df.query(\"INTERVENTION == 0\")\n",
    "        return forecast_df\n",
    "\n",
    "    def get_actual_data(analysis_start: str, analysis_end: str) -> pd.DataFrame:\n",
    "        \"\"\"\n",
    "        Use NEMOSIS to get actual data. Also omits any intervention periods\n",
    "        \"\"\"\n",
    "        # NEMOSIS start time must precede end of interval of interest by 5 minutes\n",
    "        nemosis_start = (\n",
    "            datetime.strptime(analysis_start, \"%Y/%m/%d %H:%M:%S\")\n",
    "            - timedelta(minutes=5)\n",
    "        ).strftime(\"%Y/%m/%d %H:%M:%S\")\n",
    "        # use NEMOSIS to compile pre-cached data and filter out interventions\n",
    "        actual_df = nemosis.dynamic_data_compiler(\n",
    "            nemosis_start,\n",
    "            analysis_end,\n",
    "            \"DISPATCHREGIONSUM\",\n",
    "            nemosis_cache,\n",
    "            filter_cols=[\"INTERVENTION\"],\n",
    "            filter_values=([0],),\n",
    "            fformat=\"parquet\",\n",
    "        )\n",
    "        return actual_df\n",
    "\n",
    "    def calculate_pd_forecast_demand_error(\n",
    "        actual_demand: pd.DataFrame, forecast_demand: pd.DataFrame\n",
    "    ) -> pd.DataFrame:\n",
    "        \"\"\"\n",
    "        Calculate PD forecast demand error given actual and forecast demand\n",
    "\n",
    "        Ahead time calculation reflects the fact that PD actual run time is\n",
    "        30 minutes before the nominal run time.\n",
    "        \"\"\"\n",
    "        # merge the two types of demand\n",
    "        merged = pd.merge(\n",
    "            forecast_demand,\n",
    "            actual_demand,\n",
    "            on=[\"forecasted_time\", \"REGIONID\"],\n",
    "            how=\"left\",\n",
    "        )\n",
    "        if len(merged) > len(forecast_demand):\n",
    "            raise ValueError(\n",
    "                \"Merge should return DataFrame with dimensions of forecast data\"\n",
    "            )\n",
    "        # subtract 30 minutes from run time to get actual run time\n",
    "        merged[\"ahead_time\"] = merged[\"forecasted_time\"] - (\n",
    "            merged[\"run_time\"] - timedelta(minutes=30)\n",
    "        )\n",
    "        # calculate forecast error\n",
    "        forecast_error = (\n",
    "            merged[\"TOTALDEMAND\"] - merged[\"FORECAST_TOTALDEMAND\"]\n",
    "        ).rename(\"TOTALDEMAND\")\n",
    "        # create the forecast error DataFrame\n",
    "        forecast_error = pd.concat(\n",
    "            [forecast_error, merged[\"ahead_time\"], merged[\"REGIONID\"]], axis=1\n",
    "        ).set_index(merged[\"forecasted_time\"])\n",
    "        return forecast_error\n",
    "\n",
    "    # get forecast data\n",
    "    forecast_df = get_forecast_data(analysis_start, analysis_end)\n",
    "    # rename columns in preparation for merge\n",
    "    forecast_df = forecast_df.rename(\n",
    "        columns={\n",
    "            \"TOTALDEMAND\": \"FORECAST_TOTALDEMAND\",\n",
    "            \"DATETIME\": \"forecasted_time\",\n",
    "            \"PREDISPATCH_RUN_DATETIME\": \"run_time\",\n",
    "        }\n",
    "    )\n",
    "    forecast_demand = forecast_df[\n",
    "        [\"run_time\", \"forecasted_time\", \"REGIONID\", \"FORECAST_TOTALDEMAND\"]\n",
    "    ]\n",
    "\n",
    "    # get actual data\n",
    "    actual_df = get_actual_data(analysis_start, analysis_end)\n",
    "    # rename columns in preparation for merge\n",
    "    actual_df = actual_df.rename(\n",
    "        columns={\n",
    "            \"SETTLEMENTDATE\": \"forecasted_time\",\n",
    "            \"TOTALDEMAND\": \"TOTALDEMAND\",\n",
    "        }\n",
    "    )\n",
    "    actual_demand = actual_df[[\"forecasted_time\", \"REGIONID\", \"TOTALDEMAND\"]]\n",
    "\n",
    "    forecast_error = calculate_pd_forecast_demand_error(actual_demand, forecast_demand)\n",
    "    return forecast_error"
   ]
  },
  {
   "cell_type": "code",
   "execution_count": 9,
   "metadata": {
    "tags": [
     "remove-output"
    ]
   },
   "outputs": [
    {
     "name": "stderr",
     "output_type": "stream",
     "text": [
      "/home/abi/version_control/NEMSEER/.venv/lib/python3.11/site-packages/nemosis/data_fetch_methods.py:781: UserWarning: Could not infer format, so each element will be parsed individually, falling back to `dateutil`. To ensure parsing is consistent and as-expected, please specify a format.\n",
      "  col_new = _pd.to_datetime(series)\n"
     ]
    }
   ],
   "source": [
    "forecast_error = calculate_predispatch_demand_forecast_error_vectorised(\n",
    "    analysis_start, analysis_end\n",
    ")"
   ]
  },
  {
   "cell_type": "markdown",
   "metadata": {},
   "source": [
    "## Region-by-region error percentiles\n",
    "\n",
    "Below we plot regional error percentiles for all ahead times."
   ]
  },
  {
   "cell_type": "code",
   "execution_count": 10,
   "metadata": {},
   "outputs": [],
   "source": [
    "region_ahead_percentiles = {}\n",
    "for region in (regions := (\"QLD1\", \"NSW1\", \"VIC1\", \"SA1\", \"TAS1\")):\n",
    "    percentile_data = []\n",
    "    region_error = forecast_error.query(\"REGIONID==@region\")\n",
    "    for quantile in (0.01, 0.05, 0.1, 0.25, 0.5, 0.75, 0.9, 0.95, 0.99):\n",
    "        quantile_result = region_error.groupby(\n",
    "            region_error[\"ahead_time\"].dt.total_seconds() / (60**2)\n",
    "        )[\"TOTALDEMAND\"].quantile(quantile)\n",
    "        percentile_result = pd.concat(\n",
    "            [\n",
    "                quantile_result,\n",
    "                pd.Series(\n",
    "                    np.repeat(quantile * 100, len(quantile_result)),\n",
    "                    index=quantile_result.index,\n",
    "                    name=\"Percentile\",\n",
    "                ).astype(int),\n",
    "            ],\n",
    "            axis=1,\n",
    "        )\n",
    "        percentile_data.append(percentile_result)\n",
    "    percentile_df = pd.concat(percentile_data, axis=0).reset_index()\n",
    "    region_ahead_percentiles[region] = percentile_df"
   ]
  },
  {
   "cell_type": "code",
   "execution_count": 11,
   "metadata": {},
   "outputs": [],
   "source": [
    "figs = []\n",
    "for region in regions:\n",
    "    fig = px.line(\n",
    "        region_ahead_percentiles[region],\n",
    "        x=\"ahead_time\",\n",
    "        y=\"TOTALDEMAND\",\n",
    "        color=\"Percentile\",\n",
    "        title=f\"PD {region} Demand Forecast Error, 2021<br><sup>Error = Actual - Forecast</sup>\",\n",
    "        labels={\n",
    "            \"TOTALDEMAND\": \"Demand Forecast Error (MW)\",\n",
    "            \"ahead_time\": \"Forecast Ahead Time (Hours, Actual Run Time)\",\n",
    "        },\n",
    "        template=nemseer_template,\n",
    "        color_discrete_map={\n",
    "            1: \"#E24A33\",\n",
    "            5: \"#348ABD\",\n",
    "            10: \"#988ED5\",\n",
    "            25: \"#777777\",\n",
    "            50: \"#FBC15E\",\n",
    "            75: \"#777777\",\n",
    "            90: \"#988ED5\",\n",
    "            95: \"#348ABD\",\n",
    "            99: \"#E24A33\",\n",
    "        },\n",
    "    )\n",
    "    fig[\"layout\"][\"xaxis\"][\"autorange\"] = \"reversed\"\n",
    "    figs.append(fig)"
   ]
  },
  {
   "cell_type": "code",
   "execution_count": 12,
   "metadata": {
    "tags": [
     "remove-cell"
    ]
   },
   "outputs": [],
   "source": [
    "for i, region in enumerate(regions):\n",
    "    pio.write_html(\n",
    "        figs[i], f\"../_static/pd_error_{region}_2021_aheadtime_percentile.html\"\n",
    "    )"
   ]
  },
  {
   "cell_type": "markdown",
   "metadata": {},
   "source": [
    "```{raw} html\n",
    "---\n",
    "file: ../_static/pd_error_NSW1_2021_aheadtime_percentile.html\n",
    "---\n",
    "```"
   ]
  },
  {
   "cell_type": "markdown",
   "metadata": {},
   "source": [
    "```{raw} html\n",
    "---\n",
    "file: ../_static/pd_error_VIC1_2021_aheadtime_percentile.html\n",
    "---\n",
    "```"
   ]
  },
  {
   "cell_type": "markdown",
   "metadata": {},
   "source": [
    "```{raw} html\n",
    "---\n",
    "file: ../_static/pd_error_QLD1_2021_aheadtime_percentile.html\n",
    "---\n",
    "```"
   ]
  },
  {
   "cell_type": "markdown",
   "metadata": {},
   "source": [
    "```{raw} html\n",
    "---\n",
    "file: ../_static/pd_error_SA1_2021_aheadtime_percentile.html\n",
    "---\n",
    "```"
   ]
  },
  {
   "cell_type": "markdown",
   "metadata": {},
   "source": [
    "```{raw} html\n",
    "---\n",
    "file: ../_static/pd_error_TAS1_2021_aheadtime_percentile.html\n",
    "---\n",
    "```"
   ]
  },
  {
   "cell_type": "markdown",
   "metadata": {},
   "source": [
    "### Why does the error drop off beyond ~24 hours?\n",
    "\n",
    "A limited number of periods during the day are actually forecasted beyond 24 hours out.\n",
    "\n",
    "`PREDISPATCH` is run until the end of the trading day for which bid price band submission has closed (1230 EST). So this means, for example:\n",
    "- The 1300 PD (nominal) run will forecast out til 4AM two days away (39 hours)\n",
    "- But the 1400 PD (nominal) run will still only forecast out til 4AM two days away (38 hours)\n",
    "- And the 0800 PD (nominal) run the next day will still only forecast out til 4AM the next day (20 hours)\n",
    "\n",
    "So because of this, the number of error samples drops off beyond 16 hours ahead (see figure below).\n",
    "\n",
    "In addition, the runs closer to ~35 hours will be forecasts for periods in the early hours of the morning. These periods tend to have more predictable demand."
   ]
  },
  {
   "cell_type": "code",
   "execution_count": 13,
   "metadata": {},
   "outputs": [],
   "source": [
    "sample_count = px.line(\n",
    "    forecast_error.groupby(forecast_error[\"ahead_time\"].dt.total_seconds() / (60**2))[\n",
    "        \"TOTALDEMAND\"\n",
    "    ]\n",
    "    .count()\n",
    "    .rename(\"Computed Errors\"),\n",
    "    labels={\"value\": \"Count of Samples\"},\n",
    "    template=nemseer_template,\n",
    ")\n",
    "sample_count.update_layout(legend_title=\"\", xaxis=dict(title=\"Ahead Time (hours)\"));"
   ]
  },
  {
   "cell_type": "code",
   "execution_count": 14,
   "metadata": {
    "tags": [
     "remove-cell"
    ]
   },
   "outputs": [],
   "source": [
    "pio.write_html(sample_count, f\"../_static/pd_error_2021_ahead_samples.html\")"
   ]
  },
  {
   "cell_type": "markdown",
   "metadata": {},
   "source": [
    "```{raw} html\n",
    "---\n",
    "file: ../_static/pd_error_2021_ahead_samples.html\n",
    "---\n",
    "```"
   ]
  },
  {
   "cell_type": "markdown",
   "metadata": {
    "tags": []
   },
   "source": [
    "## NEM-wide Demand Forecast Error, less than 24 hours\n",
    "\n",
    "Because of the reasons above, we'll focus on ahead times of up to 24 hours."
   ]
  },
  {
   "cell_type": "code",
   "execution_count": 15,
   "metadata": {},
   "outputs": [],
   "source": [
    "nem_error = (\n",
    "    forecast_error.reset_index()\n",
    "    .groupby([\"forecasted_time\", \"ahead_time\"])[\"TOTALDEMAND\"]\n",
    "    .sum()\n",
    "    .reset_index()\n",
    ")\n",
    "nem_percentile_data = []\n",
    "for quantile in (0.01, 0.05, 0.1, 0.25, 0.5, 0.75, 0.9, 0.95, 0.99):\n",
    "    nem_quantile_result = nem_error.groupby(\n",
    "        nem_error[\"ahead_time\"].dt.total_seconds() / (60**2)\n",
    "    )[\"TOTALDEMAND\"].quantile(quantile)\n",
    "    nem_percentile_result = pd.concat(\n",
    "        [\n",
    "            nem_quantile_result,\n",
    "            pd.Series(\n",
    "                np.repeat(quantile * 100, len(nem_quantile_result)),\n",
    "                index=nem_quantile_result.index,\n",
    "                name=\"Percentile\",\n",
    "            ).astype(int),\n",
    "        ],\n",
    "        axis=1,\n",
    "    )\n",
    "    nem_percentile_data.append(nem_percentile_result)\n",
    "nem_percentile_df = pd.concat(nem_percentile_data, axis=0).reset_index()"
   ]
  },
  {
   "cell_type": "code",
   "execution_count": 16,
   "metadata": {
    "tags": []
   },
   "outputs": [],
   "source": [
    "nemwide = px.line(\n",
    "    nem_percentile_df.query(\"ahead_time < 24\"),\n",
    "    x=\"ahead_time\",\n",
    "    y=\"TOTALDEMAND\",\n",
    "    color=\"Percentile\",\n",
    "    title=f\"Pre-dispatch NEM-wide Demand Forecast Error, 2021<br><sup>Error = Actual - Forecast</sup>\",\n",
    "    labels={\n",
    "        \"TOTALDEMAND\": \"Demand Forecast Error (MW)\",\n",
    "        \"ahead_time\": \"Forecast Ahead Time (Hours, Actual Run Time)\",\n",
    "    },\n",
    "    template=nemseer_template,\n",
    "    color_discrete_map={\n",
    "        1: \"#E24A33\",\n",
    "        5: \"#348ABD\",\n",
    "        10: \"#988ED5\",\n",
    "        25: \"#777777\",\n",
    "        50: \"#FBC15E\",\n",
    "        75: \"#777777\",\n",
    "        90: \"#988ED5\",\n",
    "        95: \"#348ABD\",\n",
    "        99: \"#E24A33\",\n",
    "    },\n",
    ")\n",
    "nemwide[\"layout\"][\"xaxis\"][\"autorange\"] = \"reversed\""
   ]
  },
  {
   "cell_type": "code",
   "execution_count": 17,
   "metadata": {
    "tags": [
     "remove-cell"
    ]
   },
   "outputs": [],
   "source": [
    "pio.write_html(nemwide, \"../_static/pd_error_NEM_2021_ahead_time_percentile.html\")"
   ]
  },
  {
   "cell_type": "markdown",
   "metadata": {},
   "source": [
    "```{raw} html\n",
    "---\n",
    "file: ../_static/pd_error_NEM_2021_ahead_time_percentile.html\n",
    "---\n",
    "```"
   ]
  },
  {
   "cell_type": "markdown",
   "metadata": {},
   "source": [
    "## Distributions of Day-Ahead Demand Forecast Error by Region\n",
    "\n",
    "We can see that the TOTALDEMAND day-ahead demand forecast error distribution is long-tailed for every region."
   ]
  },
  {
   "cell_type": "code",
   "execution_count": 18,
   "metadata": {},
   "outputs": [],
   "source": [
    "day_ahead = forecast_error[\n",
    "    forecast_error[\"ahead_time\"].dt.total_seconds() / (60**2) == 24\n",
    "]\n",
    "da_dists = px.histogram(\n",
    "    day_ahead,\n",
    "    x=\"TOTALDEMAND\",\n",
    "    facet_row=\"REGIONID\",\n",
    "    title=\"Pre-dispatch Demand Forecast Error, 2021<br><sup>Day-Ahead (24 hours ahead)</sup>\",\n",
    "    template=nemseer_template,\n",
    ")\n",
    "da_dists.update_layout(xaxis=dict(title=\"Demand Forecast Error (MW)\"));"
   ]
  },
  {
   "cell_type": "code",
   "execution_count": 19,
   "metadata": {
    "tags": [
     "remove-cell"
    ]
   },
   "outputs": [],
   "source": [
    "pio.write_html(da_dists, \"../_static/pd_error_2021_da_dists.html\")"
   ]
  },
  {
   "cell_type": "markdown",
   "metadata": {},
   "source": [
    "\n",
    "```{raw} html\n",
    "---\n",
    "file: ../_static/pd_error_2021_da_dists.html\n",
    "---\n",
    "```"
   ]
  }
 ],
 "metadata": {
  "kernelspec": {
   "display_name": ".venv",
   "language": "python",
   "name": "python3"
  },
  "language_info": {
   "codemirror_mode": {
    "name": "ipython",
    "version": 3
   },
   "file_extension": ".py",
   "mimetype": "text/x-python",
   "name": "python",
   "nbconvert_exporter": "python",
   "pygments_lexer": "ipython3",
   "version": "3.11.4"
  },
  "mystnb": {
   "execution_mode": "off"
  }
 },
 "nbformat": 4,
 "nbformat_minor": 4
}
