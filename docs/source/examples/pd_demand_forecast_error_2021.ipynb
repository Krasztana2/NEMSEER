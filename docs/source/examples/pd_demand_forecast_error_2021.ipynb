{
 "cells": [
  {
   "cell_type": "markdown",
   "metadata": {},
   "source": [
    "# Looking at pre-dispatch demand forecast errors in 2021"
   ]
  },
  {
   "cell_type": "markdown",
   "metadata": {},
   "source": [
    "In this example, we will take a look at (30-minute) pre-dispatch ({term}`PREDISPATCH`) demand forecast \"error\" (the difference between actual and forecasted demand) for 2021. Unlike 5PMD, pre-dispatch extends out to 39 hours ahead, so it's a good dataset to use to look at day-ahead forecast errors.\n",
    "\n",
    "```{note}\n",
    "The code below uses functionalities offered by `NEMOSIS` and `NEMSEER`. Alternative approaches (with respect to caching data, data handling, etc.) may be faster than the approach below. \n",
    "\n",
    "To speed up computation of forecast error using `NEMOSIS` and `NEMSEER`, we use Python's `multiprocessing` module to dispatch error calculation across multiple Python processes.\n",
    "```"
   ]
  },
  {
   "cell_type": "markdown",
   "metadata": {},
   "source": [
    "## Library Imports"
   ]
  },
  {
   "cell_type": "code",
   "execution_count": 1,
   "metadata": {},
   "outputs": [],
   "source": [
    "# standard libraries\n",
    "import logging\n",
    "import multiprocessing as mp\n",
    "from datetime import datetime, timedelta\n",
    "from pathlib import Path\n",
    "\n",
    "# NEM data libraries\n",
    "# NEMOSIS for actual demand data\n",
    "# NEMSEER for forecast demand data\n",
    "import nemosis\n",
    "from nemseer import compile_data, download_raw_data, generate_runtimes\n",
    "\n",
    "# data wrangling libraries\n",
    "import numpy as np\n",
    "import pandas as pd\n",
    "\n",
    "# interactive plotting\n",
    "import plotly.express as px\n",
    "import plotly.io as pio\n",
    "\n",
    "# progress bar for error computation\n",
    "from tqdm.autonotebook import tqdm\n",
    "\n",
    "# silence NEMSEER and NEMOSIS logging\n",
    "logging.getLogger(\"nemseer\").setLevel(logging.ERROR)\n",
    "logging.getLogger(\"nemosis\").setLevel(logging.WARNING)"
   ]
  },
  {
   "cell_type": "markdown",
   "metadata": {},
   "source": [
    "## Defining our analysis start and end dates"
   ]
  },
  {
   "cell_type": "code",
   "execution_count": 2,
   "metadata": {},
   "outputs": [],
   "source": [
    "analysis_start = \"2021/01/01 00:00:00\"\n",
    "analysis_end = \"2022/01/01 00:00:00\""
   ]
  },
  {
   "cell_type": "markdown",
   "metadata": {},
   "source": [
    "## Obtaining actual demand data from `NEMOSIS`\n",
    "\n",
    "We will download `DISPATCHREGIONSUM` to access the `TOTALDEMAND` field.\n",
    "\n",
    "We'll first download the data we need and cache it so that it's ready for computation."
   ]
  },
  {
   "cell_type": "code",
   "execution_count": 3,
   "metadata": {},
   "outputs": [],
   "source": [
    "nemosis_cache = Path(\"nemosis_cache/\")\n",
    "if not nemosis_cache.exists():\n",
    "    nemosis_cache.mkdir()"
   ]
  },
  {
   "cell_type": "code",
   "execution_count": 4,
   "metadata": {},
   "outputs": [],
   "source": [
    "nemosis.cache_compiler(\n",
    "    analysis_start, analysis_end, \"DISPATCHREGIONSUM\", nemosis_cache, fformat=\"parquet\"\n",
    ")"
   ]
  },
  {
   "cell_type": "markdown",
   "metadata": {},
   "source": [
    "## Obtaining forecast demand data from `NEMSEER`\n",
    "\n",
    "We will download `REGIONSUM` to access the `TOTALDEMAND` field in `PREDISPATCH` forecasts.\n",
    "\n",
    "We'll first download the data we need and cache it so that it's ready for computation."
   ]
  },
  {
   "cell_type": "code",
   "execution_count": 5,
   "metadata": {
    "tags": [
     "remove-output"
    ]
   },
   "outputs": [],
   "source": [
    "download_raw_data(\n",
    "    \"PREDISPATCH\",\n",
    "    \"REGIONSUM\",\n",
    "    \"nemseer_cache/\",\n",
    "    forecasted_start=analysis_start,\n",
    "    forecasted_end=analysis_end,\n",
    ")"
   ]
  },
  {
   "cell_type": "code",
   "execution_count": 6,
   "metadata": {},
   "outputs": [],
   "source": [
    "def calculate_predispatch_demand_forecast_error(forecasted_time):\n",
    "    \"\"\"\n",
    "    Calculates forecast error (Actual - Forecast) for all PD forecasts for a given forecasted_time.\n",
    "    \n",
    "    Args:\n",
    "        forecasted_time: Datetime string in the form YYYY/mm/dd HH:MM:SS\n",
    "    Returns:\n",
    "        pandas DataFrame with forecast error in `TOTALDEMAND` columns, the ahead time\n",
    "        of the forecast run in `ahead_time`, and the forecasted time in\n",
    "        `forecasted_time`.\n",
    "    \"\"\"\n",
    "    time = str(forecasted_time).replace(\"-\", \"/\")\n",
    "    run_start, run_end = generate_runtimes(time, time, \"PREDISPATCH\")\n",
    "    nemseer_data = compile_data(\n",
    "        run_start,\n",
    "        run_end,\n",
    "        time,\n",
    "        time,\n",
    "        \"PREDISPATCH\",\n",
    "        \"REGIONSUM\",\n",
    "        \"nemseer_cache/\",\n",
    "        data_format=\"xr\",\n",
    "    )\n",
    "    demand_forecasts = nemseer_data[\"REGIONSUM\"][\"TOTALDEMAND\"]\n",
    "    nemosis_start = (\n",
    "        datetime.strptime(time, \"%Y/%m/%d %H:%M:%S\") - timedelta(minutes=5)\n",
    "    ).strftime(\"%Y/%m/%d %H:%M:%S\")\n",
    "    nemosis_data = (\n",
    "        nemosis.dynamic_data_compiler(\n",
    "            nemosis_start,\n",
    "            time,\n",
    "            \"DISPATCHREGIONSUM\",\n",
    "            nemosis_cache,\n",
    "            filter_cols=[\"INTERVENTION\"],\n",
    "            filter_values=([0],),\n",
    "            fformat=\"parquet\",\n",
    "        )\n",
    "        .set_index(\"SETTLEMENTDATE\")\n",
    "        .sort_index()\n",
    "    )\n",
    "    regions = (\"QLD1\", \"NSW1\", \"VIC1\", \"TAS1\", \"SA1\")\n",
    "    errors = []\n",
    "    for region in regions:\n",
    "        actual_demand = nemosis_data.query(\"REGIONID==@region\")[\"TOTALDEMAND\"][time]\n",
    "        query_forecasts = demand_forecasts.sel(forecasted_time=time, REGIONID=region)\n",
    "        error = (actual_demand - query_forecasts).to_dataframe()\n",
    "        error[\"ahead_time\"] = error[\"forecasted_time\"] - error.index\n",
    "        error = error.set_index(\"forecasted_time\")\n",
    "        errors.append(error)\n",
    "    return pd.concat(errors, axis=0)"
   ]
  },
  {
   "cell_type": "markdown",
   "metadata": {},
   "source": [
    "To speed up computation, we will use Python’s [multiprocessing](https://docs.python.org/3/library/multiprocessing.html) module. In this example, we use 10 simultaneous processes to parallelise processing, and then concatenate results into a single DataFrame.\n",
    "\n",
    "tqdm provides us with a progress bar that shows us how many iterations are being completed in a second, as well as the progress over all intervals in the year or interest."
   ]
  },
  {
   "cell_type": "code",
   "execution_count": 7,
   "metadata": {},
   "outputs": [
    {
     "data": {
      "application/vnd.jupyter.widget-view+json": {
       "model_id": "8e72df6934974b00a61cc3df7f7f663a",
       "version_major": 2,
       "version_minor": 0
      },
      "text/plain": [
       "  0%|          | 0/17521 [00:00<?, ?it/s]"
      ]
     },
     "metadata": {},
     "output_type": "display_data"
    }
   ],
   "source": [
    "times = pd.date_range(analysis_start, analysis_end, freq=\"30T\")\n",
    "with mp.Pool(10) as p:\n",
    "    results = list(\n",
    "       tqdm(\n",
    "           p.imap(calculate_predispatch_demand_forecast_error, times), total=len(times)\n",
    "       )\n",
    "    )\n",
    "forecast_error = pd.concat(results, axis=0)"
   ]
  },
  {
   "cell_type": "markdown",
   "metadata": {},
   "source": [
    "## Region-by-region error percentiles\n",
    "\n",
    "Below we plot regional error percentiles for all ahead times."
   ]
  },
  {
   "cell_type": "code",
   "execution_count": 9,
   "metadata": {},
   "outputs": [],
   "source": [
    "region_ahead_percentiles = {}\n",
    "for region in (regions := (\"QLD1\", \"NSW1\", \"VIC1\", \"SA1\", \"TAS1\")):\n",
    "    quantile_data = []\n",
    "    region_error = forecast_error.query(\"REGIONID==@region\")\n",
    "    for quantile in (0.01, 0.05, 0.1, 0.25, 0.5, 0.75, 0.9, 0.95, 0.99):\n",
    "        quantile_result = region_error.groupby(\n",
    "            region_error[\"ahead_time\"].dt.total_seconds() / (60**2)\n",
    "        )[\"TOTALDEMAND\"].quantile(quantile)\n",
    "        quantile_result = pd.concat(\n",
    "            [\n",
    "                quantile_result,\n",
    "                pd.Series(\n",
    "                    np.repeat(quantile, len(quantile_result)),\n",
    "                    index=quantile_result.index,\n",
    "                    name=\"quantile\",\n",
    "                ),\n",
    "            ],\n",
    "            axis=1,\n",
    "        )\n",
    "        quantile_data.append(quantile_result)\n",
    "    quantile_df = pd.concat(quantile_data, axis=0).reset_index()\n",
    "    region_ahead_percentiles[region] = quantile_df"
   ]
  },
  {
   "cell_type": "code",
   "execution_count": 13,
   "metadata": {},
   "outputs": [],
   "source": [
    "for region in regions:\n",
    "    fig = px.line(\n",
    "        region_ahead_percentiles[region],\n",
    "        x=\"ahead_time\",\n",
    "        y=\"TOTALDEMAND\",\n",
    "        color=\"quantile\",\n",
    "        title=f\"PD {region} Demand Forecast Error (Actual - Forecast)\",\n",
    "        labels={\n",
    "            \"TOTALDEMAND\": \"Demand Forecast Error (MW)\",\n",
    "            \"ahead_time\": \"Forecast Ahead Time (Hours, Nominal Run Time)\",\n",
    "        },\n",
    "    )\n",
    "    fig[\"layout\"][\"xaxis\"][\"autorange\"] = \"reversed\"\n",
    "    pio.write_html(fig, f\"../_static/pd_error_{region}_2021_aheadtime_percentile.html\")"
   ]
  },
  {
   "cell_type": "markdown",
   "metadata": {},
   "source": [
    "```{raw} html\n",
    "---\n",
    "file: ../_static/pd_error_NSW1_2021_aheadtime_percentile.html\n",
    "---\n",
    "```"
   ]
  },
  {
   "cell_type": "markdown",
   "metadata": {},
   "source": [
    "```{raw} html\n",
    "---\n",
    "file: ../_static/pd_error_VIC1_2021_aheadtime_percentile.html\n",
    "---\n",
    "```"
   ]
  },
  {
   "cell_type": "markdown",
   "metadata": {},
   "source": [
    "```{raw} html\n",
    "---\n",
    "file: ../_static/pd_error_QLD1_2021_aheadtime_percentile.html\n",
    "---\n",
    "```"
   ]
  },
  {
   "cell_type": "markdown",
   "metadata": {},
   "source": [
    "```{raw} html\n",
    "---\n",
    "file: ../_static/pd_error_SA1_2021_aheadtime_percentile.html\n",
    "---\n",
    "```"
   ]
  },
  {
   "cell_type": "markdown",
   "metadata": {},
   "source": [
    "```{raw} html\n",
    "---\n",
    "file: ../_static/pd_error_TAS1_2021_aheadtime_percentile.html\n",
    "---\n",
    "```"
   ]
  },
  {
   "cell_type": "markdown",
   "metadata": {},
   "source": [
    "### Why does the error drop off beyond ~24 hours?\n",
    "\n",
    "A limited number of periods during the day are actually forecasted beyond 24 hours out.\n",
    "\n",
    "`PREDISPATCH` is run until the end of the trading day for which bid price band submission has closed (1230 EST). So this means, for example:\n",
    "- The 1300 PD run will forecast out til 4AM two days away (39 hours)\n",
    "- But the 1400 PD run will still only forecast out til 4AM two days away (38 hours)\n",
    "- And the 0800 PD run the next day will still only forecast out til 4AM the next day (20 hours)\n",
    "\n",
    "So because of this, the number of error samples drops off beyond 15.5 hours ahead (see figure below).\n",
    "\n",
    "In addition, the runs closer to ~35 hours will be forecasts for periods in the early hours of the morning. These periods tend to have more predictable demand."
   ]
  },
  {
   "cell_type": "code",
   "execution_count": 16,
   "metadata": {},
   "outputs": [],
   "source": [
    "sample_count = px.line(\n",
    "    forecast_error.groupby(forecast_error[\"ahead_time\"].dt.total_seconds() / (60**2))[\n",
    "        \"TOTALDEMAND\"\n",
    "    ]\n",
    "    .count()\n",
    "    .rename(\"Computed Errors\"),\n",
    "    labels={\"value\": \"Count of Samples\"},\n",
    ")\n",
    "pio.write_html(sample_count, f\"../_static/pd_error_2021_ahead_samples.html\")"
   ]
  },
  {
   "cell_type": "markdown",
   "metadata": {},
   "source": [
    "```{raw} html\n",
    "---\n",
    "file: ../_static/pd_error_2021_ahead_samples.html\n",
    "---\n",
    "```"
   ]
  },
  {
   "cell_type": "markdown",
   "metadata": {
    "tags": []
   },
   "source": [
    "## NEM-wide Demand Forecast Error, less than 24 hours\n",
    "\n",
    "Because of the reasons above, we'll focus on ahead times of up to 24 hours."
   ]
  },
  {
   "cell_type": "code",
   "execution_count": 17,
   "metadata": {},
   "outputs": [],
   "source": [
    "nem_error = (\n",
    "    forecast_error.reset_index()\n",
    "    .groupby([\"forecasted_time\", \"ahead_time\"])[\"TOTALDEMAND\"]\n",
    "    .sum()\n",
    "    .reset_index()\n",
    ")\n",
    "nem_quantile_data = []\n",
    "for quantile in (0.01, 0.05, 0.1, 0.25, 0.5, 0.75, 0.9, 0.95, 0.99):\n",
    "    nem_quantile_result = nem_error.groupby(\n",
    "        nem_error[\"ahead_time\"].dt.total_seconds() / (60**2)\n",
    "    )[\"TOTALDEMAND\"].quantile(quantile)\n",
    "    nem_quantile_result = pd.concat(\n",
    "        [\n",
    "            nem_quantile_result,\n",
    "            pd.Series(\n",
    "                np.repeat(quantile, len(nem_quantile_result)),\n",
    "                index=nem_quantile_result.index,\n",
    "                name=\"quantile\",\n",
    "            ),\n",
    "        ],\n",
    "        axis=1,\n",
    "    )\n",
    "    nem_quantile_data.append(nem_quantile_result)\n",
    "nem_quantile_df = pd.concat(nem_quantile_data, axis=0).reset_index()"
   ]
  },
  {
   "cell_type": "code",
   "execution_count": 19,
   "metadata": {
    "tags": []
   },
   "outputs": [],
   "source": [
    "nemwide = px.line(\n",
    "    nem_quantile_df.query(\"ahead_time < 24\"),\n",
    "    x=\"ahead_time\",\n",
    "    y=\"TOTALDEMAND\",\n",
    "    color=\"quantile\",\n",
    "    title=f\"PD NEM-wide Demand Forecast Error (Actual - Forecast)\",\n",
    "    labels={\n",
    "        \"TOTALDEMAND\": \"Demand Forecast Error (MW)\",\n",
    "        \"ahead_time\": \"Forecast Ahead Time (Hours, Nominal Run Time)\",\n",
    "    },\n",
    ")\n",
    "nemwide[\"layout\"][\"xaxis\"][\"autorange\"] = \"reversed\"\n",
    "pio.write_html(nemwide, \"../_static/pd_error_NEM_2021_ahead_time_percentile.html\")"
   ]
  },
  {
   "cell_type": "markdown",
   "metadata": {},
   "source": [
    "```{raw} html\n",
    "---\n",
    "file: ../_static/pd_error_NEM_2021_ahead_time_percentile.html\n",
    "---\n",
    "```"
   ]
  },
  {
   "cell_type": "markdown",
   "metadata": {},
   "source": [
    "## Distributions of Day-Ahead Demand Forecast Error by Region\n",
    "\n",
    "We can see that the TOTALDEMAND day-ahead demand forecast error distribution is long-tailed for every region."
   ]
  },
  {
   "cell_type": "code",
   "execution_count": 21,
   "metadata": {},
   "outputs": [],
   "source": [
    "day_ahead = forecast_error[\n",
    "    forecast_error[\"ahead_time\"].dt.total_seconds() / (60**2) == 24\n",
    "]\n",
    "da_dists = px.histogram(\n",
    "    day_ahead,\n",
    "    x=\"TOTALDEMAND\",\n",
    "    facet_row=\"REGIONID\",\n",
    "    title=\"PREDISPATCH Demand Forecast Error 2021 - Day-Ahead (24 hours ahead)\",\n",
    ")\n",
    "pio.write_html(da_dists, \"../_static/pd_error_2021_da_dists.html\")"
   ]
  },
  {
   "cell_type": "markdown",
   "metadata": {},
   "source": [
    "```{raw} html\n",
    "---\n",
    "file: ../_static/pd_error_2021_da_dists.html\n",
    "---\n",
    "```"
   ]
  }
 ],
 "metadata": {
  "kernelspec": {
   "display_name": "nemseer",
   "language": "python",
   "name": "nemseer"
  },
  "language_info": {
   "codemirror_mode": {
    "name": "ipython",
    "version": 3
   },
   "file_extension": ".py",
   "mimetype": "text/x-python",
   "name": "python",
   "nbconvert_exporter": "python",
   "pygments_lexer": "ipython3",
   "version": "3.10.6"
  },
  "mystnb": {
   "execution_mode": "off"
  },
  "vscode": {
   "interpreter": {
    "hash": "3d87edaa96a2b6f20f72be58868756e9fd14c277bec7729a5632a59d6b45b0d7"
   }
  }
 },
 "nbformat": 4,
 "nbformat_minor": 4
}
