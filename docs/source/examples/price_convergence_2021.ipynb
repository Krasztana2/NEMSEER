{
 "cells": [
  {
   "cell_type": "markdown",
   "metadata": {},
   "source": [
    "# Predispatch Price Convergence in 2021"
   ]
  },
  {
   "cell_type": "markdown",
   "metadata": {},
   "source": [
    "In this example, we will take a look at (30-minute) pre-dispatch ({term}`PREDISPATCH`) energy price convergence. \n",
    "\n",
    "In AEMO data tables, the energy price in \\$/MW/hr is usually found in the `RRP` column.\n",
    "\n",
    "We will focus on 5-minute dispatch interval prices. \n",
    "\n",
    "```{note}\n",
    "Prior to midnight 30 September (commencement of 5-minute settlement), market settlement prices for energy were calculated as the average of the 6 dispatch interval prices in a half hour window.\n",
    "```"
   ]
  },
  {
   "cell_type": "markdown",
   "metadata": {},
   "source": [
    "## Library Imports"
   ]
  },
  {
   "cell_type": "code",
   "execution_count": 1,
   "metadata": {},
   "outputs": [],
   "source": [
    "# standard libraries\n",
    "import logging\n",
    "import multiprocessing as mp\n",
    "from datetime import datetime, timedelta\n",
    "from pathlib import Path\n",
    "from typing import Tuple\n",
    "\n",
    "# NEM data libraries\n",
    "# NEMOSIS for actual demand data\n",
    "# NEMSEER for forecast demand data\n",
    "import nemosis\n",
    "from nemseer import compile_data, download_raw_data, generate_runtimes\n",
    "\n",
    "# data wrangling libraries\n",
    "import pandas as pd\n",
    "import xarray as xr\n",
    "\n",
    "# interactive plotting\n",
    "import plotly.express as px\n",
    "import plotly.graph_objects as go\n",
    "import plotly.io as pio\n",
    "\n",
    "# progress bar for error computation\n",
    "from tqdm.notebook import tqdm\n",
    "\n",
    "# silence NEMSEER and NEMOSIS logging\n",
    "logging.getLogger(\"nemosis\").setLevel(logging.WARNING)\n",
    "logging.getLogger(\"nemseer\").setLevel(logging.ERROR)"
   ]
  },
  {
   "cell_type": "markdown",
   "metadata": {},
   "source": [
    "## Defining our analysis start and end dates"
   ]
  },
  {
   "cell_type": "code",
   "execution_count": 2,
   "metadata": {},
   "outputs": [],
   "source": [
    "analysis_start = \"2021/01/01 00:00:00\"\n",
    "analysis_end = \"2022/01/01 00:00:00\""
   ]
  },
  {
   "cell_type": "markdown",
   "metadata": {},
   "source": [
    "## Getting Data"
   ]
  },
  {
   "cell_type": "markdown",
   "metadata": {},
   "source": [
    "### Obtaining actual price data from `NEMOSIS`\n",
    "\n",
    "We will download `DISPATCHPRICE` to access the `RRP` (energy price) field.\n",
    "\n",
    "We'll first download the data we need and cache it so that it's ready for computation."
   ]
  },
  {
   "cell_type": "code",
   "execution_count": 3,
   "metadata": {},
   "outputs": [],
   "source": [
    "nemosis_cache = Path(\"nemosis_cache/\")\n",
    "if not nemosis_cache.exists():\n",
    "    nemosis_cache.mkdir()"
   ]
  },
  {
   "cell_type": "code",
   "execution_count": 4,
   "metadata": {},
   "outputs": [],
   "source": [
    "nemosis.cache_compiler(\n",
    "    analysis_start, analysis_end, \"DISPATCHPRICE\", nemosis_cache, fformat=\"parquet\"\n",
    ")"
   ]
  },
  {
   "cell_type": "markdown",
   "metadata": {},
   "source": [
    "### Obtaining actual demand data from `NEMOSIS`\n",
    "\n",
    "We can download `DISPATCHREGIONSUM` to get actual demand data (`TOTALDEMAND`). \n",
    "\n",
    "We'll only use this for plotting."
   ]
  },
  {
   "cell_type": "code",
   "execution_count": 5,
   "metadata": {},
   "outputs": [],
   "source": [
    "nemosis.cache_compiler(\n",
    "    analysis_start, analysis_end, \"DISPATCHREGIONSUM\", nemosis_cache, fformat=\"parquet\"\n",
    ")"
   ]
  },
  {
   "cell_type": "markdown",
   "metadata": {},
   "source": [
    "### Obtaining forecast price data from `NEMSEER`\n",
    "\n",
    "We will download `PRICE` to access the `RRP` field in `PREDISPATCH` forecasts, and `REGIONSOLUTION` to access the `RRP` field in `P5MIN` forecasts.\n",
    "\n",
    "We'll first download the data we need and cache it so that it's ready for computation."
   ]
  },
  {
   "cell_type": "code",
   "execution_count": 6,
   "metadata": {},
   "outputs": [],
   "source": [
    "download_raw_data(\n",
    "    \"PREDISPATCH\",\n",
    "    \"PRICE\",\n",
    "    \"nemseer_cache/\",\n",
    "    forecasted_start=analysis_start,\n",
    "    forecasted_end=analysis_end,\n",
    ")\n",
    "\n",
    "\n",
    "download_raw_data(\n",
    "    \"P5MIN\",\n",
    "    \"REGIONSOLUTION\",\n",
    "    \"nemseer_cache/\",\n",
    "    forecasted_start=analysis_start,\n",
    "    forecasted_end=analysis_end,\n",
    ")"
   ]
  },
  {
   "cell_type": "markdown",
   "metadata": {},
   "source": [
    "### Obtaining forecast demand data from NEMSEER\n",
    "\n",
    "For plotting, we will also download demand data. \n",
    "\n",
    "This is contained within `REGIONSOLUTION` for `P5MIN`, but we need to get the table `REGIONSUM` for `PREDISPATCH`."
   ]
  },
  {
   "cell_type": "code",
   "execution_count": 7,
   "metadata": {},
   "outputs": [],
   "source": [
    "download_raw_data(\n",
    "    \"PREDISPATCH\",\n",
    "    \"REGIONSUM\",\n",
    "    \"nemseer_cache/\",\n",
    "    forecasted_start=analysis_start,\n",
    "    forecasted_end=analysis_end,\n",
    ")"
   ]
  },
  {
   "cell_type": "markdown",
   "metadata": {},
   "source": [
    "## Comparing price (and demand) convergence for a particular time\n",
    "\n",
    "The code below allows us to plot forecast convergence for price and demand across PD and P5.\n",
    "\n",
    "Note that we adjust the *nominal* {term}`run time` to the {term}`actual run time`."
   ]
  },
  {
   "cell_type": "code",
   "execution_count": 8,
   "metadata": {},
   "outputs": [],
   "source": [
    "def plot_price_comparison(time: str, regionid: str) -> go.Figure:\n",
    "    \"\"\"\n",
    "    Creates a figure that compares price forecasts from PD & P5MIN against\n",
    "    the actual price.\n",
    "\n",
    "    Args:\n",
    "        time: Datetime string in format YYYY/mm/dd HH:MM:SS\n",
    "        regionid: One of (\"NSW1\", \"QLD1\", \"VIC1\", \"TAS1\", \"SA1\")\n",
    "    Returns:\n",
    "        plotly Figure\n",
    "    \"\"\"\n",
    "\n",
    "    def get_actual_data(time: str) -> pd.DataFrame:\n",
    "        \"\"\"\n",
    "        Gets actual price data\n",
    "        \"\"\"\n",
    "        # get actual data from the hour beforehand to the interval of interest\n",
    "        nemosis_window = (\n",
    "            (\n",
    "                datetime.strptime(time, \"%Y/%m/%d %H:%M:%S\") - timedelta(minutes=60)\n",
    "            ).strftime(\"%Y/%m/%d %H:%M:%S\"),\n",
    "            time,\n",
    "        )\n",
    "        nemosis_price = nemosis.dynamic_data_compiler(\n",
    "            nemosis_window[0],\n",
    "            nemosis_window[1],\n",
    "            \"DISPATCHPRICE\",\n",
    "            nemosis_cache,\n",
    "            filter_cols=[\"INTERVENTION\"],\n",
    "            filter_values=([0],),\n",
    "        )\n",
    "        actual_price = nemosis_price[[\"SETTLEMENTDATE\", \"REGIONID\", \"RRP\"]]\n",
    "        return actual_price\n",
    "\n",
    "    def get_forecast_data(time: str) -> Tuple[xr.DataArray, xr.DataArray]:\n",
    "        \"\"\"\n",
    "        Gets P5 and PD forecast price data\n",
    "        Also corrects nominal to actual run time\n",
    "        \"\"\"\n",
    "        # get P5 and PD forecast data\n",
    "        ## get PD data\n",
    "        run_start, run_end = generate_runtimes(time, time, \"PREDISPATCH\")\n",
    "        pd_price = compile_data(\n",
    "            run_start,\n",
    "            run_end,\n",
    "            time,\n",
    "            time,\n",
    "            \"PREDISPATCH\",\n",
    "            \"PRICE\",\n",
    "            \"nemseer_cache/\",\n",
    "            data_format=\"xr\",\n",
    "        )[\"PRICE\"][\"RRP\"]\n",
    "        ## calculate actual run time from run time, then swap out nominal for actual\n",
    "        pd_price = pd_price.assign_coords(\n",
    "            {\"actual_run_time\": pd_price.coords[\"run_time\"] - pd.Timedelta(30, \"T\")}\n",
    "        )\n",
    "        pd_price = pd_price.swap_dims({\"run_time\": \"actual_run_time\"}).drop(\"run_time\")\n",
    "        ## get P5 data\n",
    "        p5_price = compile_data(\n",
    "            run_start,\n",
    "            run_end,\n",
    "            time,\n",
    "            time,\n",
    "            \"P5MIN\",\n",
    "            \"REGIONSOLUTION\",\n",
    "            \"nemseer_cache/\",\n",
    "            data_format=\"xr\",\n",
    "        )[\"REGIONSOLUTION\"][\"RRP\"]\n",
    "        ## calculate actual run time from run time, then swap out nominal for actual\n",
    "        p5_price = p5_price.assign_coords(\n",
    "            {\"actual_run_time\": p5_price.coords[\"run_time\"] - pd.Timedelta(5, \"T\")}\n",
    "        )\n",
    "        p5_price = p5_price.swap_dims({\"run_time\": \"actual_run_time\"}).drop(\"run_time\")\n",
    "        return pd_price, p5_price\n",
    "\n",
    "    actual_price = get_actual_data(time).query(\"REGIONID==@regionid\")\n",
    "    pd_price, p5_price = get_forecast_data(time)\n",
    "    pd_price = pd_price.sel(REGIONID=regionid)\n",
    "    p5_price = p5_price.sel(REGIONID=regionid)\n",
    "    # create plotly figure\n",
    "    fig = go.Figure(\n",
    "        layout=dict(\n",
    "            title=f\"Energy Price Comparison: {regionid} {time} <br><sup>Actual run times for forecasts</sup>\"\n",
    "        )\n",
    "    )\n",
    "    fig.add_traces(\n",
    "        [\n",
    "            go.Scatter(\n",
    "                x=pd_price.isel(forecasted_time=0).to_dataframe().index,\n",
    "                y=pd_price.isel(forecasted_time=0).to_dataframe()[\"RRP\"],\n",
    "                name=\"PD\",\n",
    "                mode=\"lines\",\n",
    "            ),\n",
    "            go.Scatter(\n",
    "                x=p5_price.isel(forecasted_time=0).to_dataframe().index,\n",
    "                y=p5_price.isel(forecasted_time=0).to_dataframe()[\"RRP\"],\n",
    "                name=\"P5\",\n",
    "                mode=\"lines\",\n",
    "            ),\n",
    "            go.Scatter(\n",
    "                x=actual_price[\"SETTLEMENTDATE\"],\n",
    "                y=actual_price[\"RRP\"],\n",
    "                mode=\"lines\",\n",
    "                name=\"actual\",\n",
    "            ),\n",
    "        ]\n",
    "    )\n",
    "    return fig"
   ]
  },
  {
   "cell_type": "code",
   "execution_count": 9,
   "metadata": {},
   "outputs": [],
   "source": [
    "def plot_demand_comparison(time: str, regionid: str) -> go.Figure:\n",
    "    \"\"\"\n",
    "    Creates a figure that compares demand forecasts from PD & P5MIN against\n",
    "    the actual demand used in dispatch.\n",
    "\n",
    "    Args:\n",
    "        time: Datetime string in format YYYY/mm/dd HH:MM:SS\n",
    "        regionid: One of (\"NSW1\", \"QLD1\", \"VIC1\", \"TAS1\", \"SA1\")\n",
    "    Returns:\n",
    "        plotly Figure\n",
    "    \"\"\"\n",
    "\n",
    "    def get_actual_data(time: str) -> pd.DataFrame:\n",
    "        \"\"\"\n",
    "        Gets actual demand data\n",
    "        \"\"\"\n",
    "        # get actual data from the hour beforehand to the interval of interest\n",
    "        nemosis_window = (\n",
    "            (\n",
    "                datetime.strptime(time, \"%Y/%m/%d %H:%M:%S\") - timedelta(minutes=60)\n",
    "            ).strftime(\"%Y/%m/%d %H:%M:%S\"),\n",
    "            time,\n",
    "        )\n",
    "        nemosis_demand = nemosis.dynamic_data_compiler(\n",
    "            nemosis_window[0],\n",
    "            nemosis_window[1],\n",
    "            \"DISPATCHREGIONSUM\",\n",
    "            nemosis_cache,\n",
    "            filter_cols=[\"INTERVENTION\"],\n",
    "            filter_values=([0],),\n",
    "        )\n",
    "        actual_demand = nemosis_demand[[\"SETTLEMENTDATE\", \"REGIONID\", \"TOTALDEMAND\"]]\n",
    "        return actual_demand.sort_values(\"SETTLEMENTDATE\")\n",
    "\n",
    "    def get_forecast_data(time: str) -> Tuple[xr.DataArray, xr.DataArray]:\n",
    "        \"\"\"\n",
    "        Gets P5 and PD forecast demand data\n",
    "        Also corrects nominal to actual run time\n",
    "        \"\"\"\n",
    "        # get P5 and PD forecast data\n",
    "        ## get PD data\n",
    "        run_start, run_end = generate_runtimes(time, time, \"PREDISPATCH\")\n",
    "        pd_demand = compile_data(\n",
    "            run_start,\n",
    "            run_end,\n",
    "            time,\n",
    "            time,\n",
    "            \"PREDISPATCH\",\n",
    "            \"REGIONSUM\",\n",
    "            \"nemseer_cache/\",\n",
    "            data_format=\"xr\",\n",
    "        )[\"REGIONSUM\"][\"TOTALDEMAND\"]\n",
    "        ## calculate actual run time from run time, then swap out nominal for actual\n",
    "        pd_demand = pd_demand.assign_coords(\n",
    "            {\"actual_run_time\": pd_demand.coords[\"run_time\"] - pd.Timedelta(30, \"T\")}\n",
    "        )\n",
    "        pd_demand = pd_demand.swap_dims({\"run_time\": \"actual_run_time\"}).drop(\n",
    "            \"run_time\"\n",
    "        )\n",
    "        ## get P5 data\n",
    "        p5_demand = compile_data(\n",
    "            run_start,\n",
    "            run_end,\n",
    "            time,\n",
    "            time,\n",
    "            \"P5MIN\",\n",
    "            \"REGIONSOLUTION\",\n",
    "            \"nemseer_cache/\",\n",
    "            data_format=\"xr\",\n",
    "        )[\"REGIONSOLUTION\"][\"TOTALDEMAND\"]\n",
    "        ## calculate actual run time from run time, then swap out nominal for actual\n",
    "        p5_demand = p5_demand.assign_coords(\n",
    "            {\"actual_run_time\": p5_demand.coords[\"run_time\"] - pd.Timedelta(5, \"T\")}\n",
    "        )\n",
    "        p5_demand = p5_demand.swap_dims({\"run_time\": \"actual_run_time\"}).drop(\n",
    "            \"run_time\"\n",
    "        )\n",
    "        return pd_demand, p5_demand\n",
    "\n",
    "    actual_demand = get_actual_data(time).query(\"REGIONID==@regionid\")\n",
    "    pd_demand, p5_demand = get_forecast_data(time)\n",
    "    pd_demand = pd_demand.sel(REGIONID=regionid)\n",
    "    p5_demand = p5_demand.sel(REGIONID=regionid)\n",
    "    # create plotly figure\n",
    "    fig = go.Figure(\n",
    "        layout=dict(\n",
    "            title=f\"Demand Comparison: {regionid} {time} <br><sup>Actual run times for forecasts</sup>\"\n",
    "        )\n",
    "    )\n",
    "    fig.add_traces(\n",
    "        [\n",
    "            go.Scatter(\n",
    "                x=pd_demand.isel(forecasted_time=0).to_dataframe().index,\n",
    "                y=pd_demand.isel(forecasted_time=0).to_dataframe()[\"TOTALDEMAND\"],\n",
    "                name=\"PD\",\n",
    "                mode=\"lines\",\n",
    "            ),\n",
    "            go.Scatter(\n",
    "                x=p5_demand.isel(forecasted_time=0).to_dataframe().index,\n",
    "                y=p5_demand.isel(forecasted_time=0).to_dataframe()[\"TOTALDEMAND\"],\n",
    "                name=\"P5\",\n",
    "                mode=\"lines\",\n",
    "            ),\n",
    "            go.Scatter(\n",
    "                x=actual_demand[\"SETTLEMENTDATE\"],\n",
    "                y=actual_demand[\"TOTALDEMAND\"],\n",
    "                mode=\"lines\",\n",
    "                name=\"actual\",\n",
    "            ),\n",
    "        ]\n",
    "    )\n",
    "    return fig"
   ]
  },
  {
   "cell_type": "markdown",
   "metadata": {},
   "source": [
    "Let's pick a summer's evening ramp."
   ]
  },
  {
   "cell_type": "code",
   "execution_count": 10,
   "metadata": {
    "scrolled": false
   },
   "outputs": [],
   "source": [
    "time = \"2021/12/30 18:00:00\"\n",
    "price_comp = plot_price_comparison(time, \"NSW1\")\n",
    "demand_comp = plot_demand_comparison(time, \"NSW1\")"
   ]
  },
  {
   "cell_type": "code",
   "execution_count": 11,
   "metadata": {},
   "outputs": [],
   "source": [
    "pio.write_html(price_comp, \"../_static/price_cov.html\")"
   ]
  },
  {
   "cell_type": "markdown",
   "metadata": {},
   "source": [
    "```{raw} html\n",
    "---\n",
    "file: ../_static/price_cov.html\n",
    "---\n",
    "```"
   ]
  },
  {
   "cell_type": "code",
   "execution_count": 12,
   "metadata": {},
   "outputs": [],
   "source": [
    "pio.write_html(demand_comp, \"../_static/demand_cov.html\")"
   ]
  },
  {
   "cell_type": "markdown",
   "metadata": {},
   "source": [
    "```{raw} html\n",
    "---\n",
    "file: ../_static/demand_cov.html\n",
    "---\n",
    "```"
   ]
  },
  {
   "cell_type": "markdown",
   "metadata": {},
   "source": [
    "## Looking at price convergence a bit more systematically"
   ]
  },
  {
   "cell_type": "code",
   "execution_count": 80,
   "metadata": {},
   "outputs": [],
   "source": [
    "def get_actual_price_data() -> pd.DataFrame:\n",
    "    \"\"\"\n",
    "    Gets actual price data\n",
    "    \"\"\"\n",
    "    # get actual demand data for forecasted_time\n",
    "    # nemosis start time must precede end of interval of interest by 5 minutes\n",
    "    nemosis_window = (\n",
    "        (\n",
    "            datetime.strptime(analysis_start, \"%Y/%m/%d %H:%M:%S\")\n",
    "            - timedelta(minutes=5)\n",
    "        ).strftime(\"%Y/%m/%d %H:%M:%S\"),\n",
    "        analysis_end,\n",
    "    )\n",
    "    nemosis_price = nemosis.dynamic_data_compiler(\n",
    "        nemosis_window[0],\n",
    "        nemosis_window[1],\n",
    "        \"DISPATCHPRICE\",\n",
    "        nemosis_cache,\n",
    "        filter_cols=[\"INTERVENTION\"],\n",
    "        filter_values=([0],),\n",
    "    )\n",
    "    actual_price = nemosis_price[[\"SETTLEMENTDATE\", \"REGIONID\", \"RRP\"]]\n",
    "    actual_price = actual_price.rename(columns={\"SETTLEMENTDATE\": \"forecasted_time\"})\n",
    "    return actual_price"
   ]
  },
  {
   "cell_type": "code",
   "execution_count": 81,
   "metadata": {},
   "outputs": [],
   "source": [
    "def get_forecast_price_data(ftype: str) -> pd.DataFrame:\n",
    "    \"\"\"\n",
    "    Get price forecast data for the analysis period given a particular forecast type\n",
    "\n",
    "    Args:\n",
    "        ftype: 'P5MIN' or 'PREDISPATCH'\n",
    "    Returns:\n",
    "        DataFrame with price forecast data\n",
    "    \"\"\"\n",
    "    # ftype mappings\n",
    "    table = {\"PREDISPATCH\": \"PRICE\", \"P5MIN\": \"REGIONSOLUTION\"}\n",
    "    run_col = {\"PREDISPATCH\": \"PREDISPATCH_RUN_DATETIME\", \"P5MIN\": \"RUN_DATETIME\"}\n",
    "    forecasted_col = {\"PREDISPATCH\": \"DATETIME\", \"P5MIN\": \"INTERVAL_DATETIME\"}\n",
    "    # get run times\n",
    "    forecasts_run_start, forecasts_run_end = generate_runtimes(\n",
    "        analysis_start, analysis_end, ftype\n",
    "    )\n",
    "    df = compile_data(\n",
    "        forecasts_run_start,\n",
    "        forecasts_run_end,\n",
    "        analysis_start,\n",
    "        analysis_end,\n",
    "        ftype,\n",
    "        table[ftype],\n",
    "        \"nemseer_cache/\",\n",
    "    )[table[ftype]]\n",
    "    # remove intervention periods\n",
    "    df = df.query(\"INTERVENTION == 0\")\n",
    "    # rename run and forecasted time cols\n",
    "    df = df.rename(\n",
    "        columns={run_col[ftype]: \"run_time\", forecasted_col[ftype]: \"forecasted_time\"}\n",
    "    )\n",
    "    # ensure values are sorted by forecasted and run times for future nth operation\n",
    "    return df[[\"run_time\", \"forecasted_time\", \"REGIONID\", \"RRP\"]].sort_values(\n",
    "        [\"forecasted_time\", \"run_time\"]\n",
    "    )"
   ]
  },
  {
   "cell_type": "code",
   "execution_count": 82,
   "metadata": {},
   "outputs": [],
   "source": [
    "p5_df = get_forecast_price_data(\"P5MIN\")\n",
    "pd_df = get_forecast_price_data(\"PREDISPATCH\")\n",
    "# calulate actual run time for each forecast type\n",
    "p5_df[\"actual_run_time\"] = p5_df[\"run_time\"] - pd.Timedelta(minutes=5)\n",
    "pd_df[\"actual_run_time\"] = pd_df[\"run_time\"] - pd.Timedelta(minutes=30)\n",
    "p5_df = p5_df.drop(columns=\"run_time\")\n",
    "pd_df = pd_df.drop(columns=\"run_time\")\n",
    "# remove PD overlap with P5MIN\n",
    "pd_nooverlap = pd_df.groupby([\"forecasted_time\", \"REGIONID\"], as_index=False).nth(\n",
    "    slice(None, -2)\n",
    ")"
   ]
  },
  {
   "cell_type": "code",
   "execution_count": 100,
   "metadata": {},
   "outputs": [],
   "source": [
    "forecast_prices = pd.concat([pd_nooverlap, p5_df], axis=0).sort_values(\n",
    "    [\"forecasted_time\", \"actual_run_time\"]\n",
    ")\n",
    "forecast_prices = forecast_prices.rename(columns={\"RRP\": \"FORECASTED_RRP\"})"
   ]
  },
  {
   "cell_type": "code",
   "execution_count": 101,
   "metadata": {},
   "outputs": [],
   "source": [
    "actual_price = get_actual_price_data()"
   ]
  },
  {
   "cell_type": "code",
   "execution_count": 102,
   "metadata": {},
   "outputs": [],
   "source": [
    "all_prices = pd.merge(\n",
    "    forecast_prices, actual_price, how=\"left\", on=[\"forecasted_time\", \"REGIONID\"]\n",
    ")\n",
    "all_prices[\"ahead_time\"] = all_prices[\"forecasted_time\"] - all_prices[\"actual_run_time\"]\n",
    "all_prices[\"error\"] = all_prices[\"RRP\"] - all_prices[\"FORECASTED_RRP\"]"
   ]
  },
  {
   "cell_type": "code",
   "execution_count": 103,
   "metadata": {},
   "outputs": [],
   "source": [
    "price_error = all_prices.drop(columns=[\"RRP\", \"FORECASTED_RRP\", \"actual_run_time\"])"
   ]
  }
 ],
 "metadata": {
  "kernelspec": {
   "display_name": "nem-data-analysis",
   "language": "python",
   "name": "nem-data-analysis"
  },
  "language_info": {
   "codemirror_mode": {
    "name": "ipython",
    "version": 3
   },
   "file_extension": ".py",
   "mimetype": "text/x-python",
   "name": "python",
   "nbconvert_exporter": "python",
   "pygments_lexer": "ipython3",
   "version": "3.10.6"
  },
  "mystnb": {
   "execution_mode": "off"
  },
  "vscode": {
   "interpreter": {
    "hash": "3d87edaa96a2b6f20f72be58868756e9fd14c277bec7729a5632a59d6b45b0d7"
   }
  }
 },
 "nbformat": 4,
 "nbformat_minor": 4
}
